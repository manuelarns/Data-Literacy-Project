{
 "cells": [
  {
   "cell_type": "markdown",
   "metadata": {},
   "source": [
    "**Analysis of the salaries data set**"
   ]
  },
  {
   "cell_type": "markdown",
   "metadata": {},
   "source": []
  },
  {
   "cell_type": "markdown",
   "metadata": {},
   "source": [
    "Import of Libraries:"
   ]
  },
  {
   "cell_type": "code",
   "execution_count": 1,
   "metadata": {},
   "outputs": [
    {
     "name": "stderr",
     "output_type": "stream",
     "text": [
      "C:\\Users\\timwe\\AppData\\Local\\Temp/ipykernel_12596/444354043.py:4: DeprecationWarning: `set_matplotlib_formats` is deprecated since IPython 7.23, directly use `matplotlib_inline.backend_inline.set_matplotlib_formats()`\n",
      "  set_matplotlib_formats(\"pdf\", \"svg\")\n"
     ]
    }
   ],
   "source": [
    "# Make inline plots vector graphics\n",
    "%matplotlib inline\n",
    "from IPython.display import set_matplotlib_formats\n",
    "set_matplotlib_formats(\"pdf\", \"svg\")\n",
    "#\n",
    "# Plotting setup\n",
    "import matplotlib.pyplot as plt\n",
    "\n",
    "# Package imports\n",
    "import numpy as np\n",
    "import pandas as pd\n",
    "import ssl\n",
    "ssl._create_default_https_context = ssl._create_unverified_context\n",
    "#Analysis tools\n",
    "import preprocessing as pre\n",
    "from sklearn.linear_model import LinearRegression\n"
   ]
  },
  {
   "cell_type": "markdown",
   "metadata": {},
   "source": [
    "#### Raw data"
   ]
  },
  {
   "cell_type": "code",
   "execution_count": 2,
   "metadata": {},
   "outputs": [
    {
     "name": "stdout",
     "output_type": "stream",
     "text": [
      "(1544, 11)\n"
     ]
    }
   ],
   "source": [
    "world_data, salaries_data, countries_data = pre.load_data()\n",
    "print(salaries_data.shape)"
   ]
  },
  {
   "cell_type": "code",
   "execution_count": 3,
   "metadata": {},
   "outputs": [
    {
     "data": {
      "text/html": [
       "<div>\n",
       "<style scoped>\n",
       "    .dataframe tbody tr th:only-of-type {\n",
       "        vertical-align: middle;\n",
       "    }\n",
       "\n",
       "    .dataframe tbody tr th {\n",
       "        vertical-align: top;\n",
       "    }\n",
       "\n",
       "    .dataframe thead th {\n",
       "        text-align: right;\n",
       "    }\n",
       "</style>\n",
       "<table border=\"1\" class=\"dataframe\">\n",
       "  <thead>\n",
       "    <tr style=\"text-align: right;\">\n",
       "      <th></th>\n",
       "      <th>work_year</th>\n",
       "      <th>experience_level</th>\n",
       "      <th>employment_type</th>\n",
       "      <th>job_title</th>\n",
       "      <th>salary</th>\n",
       "      <th>salary_currency</th>\n",
       "      <th>salary_in_usd</th>\n",
       "      <th>employee_residence</th>\n",
       "      <th>remote_ratio</th>\n",
       "      <th>company_location</th>\n",
       "      <th>company_size</th>\n",
       "    </tr>\n",
       "  </thead>\n",
       "  <tbody>\n",
       "    <tr>\n",
       "      <th>0</th>\n",
       "      <td>2021</td>\n",
       "      <td>SE</td>\n",
       "      <td>FT</td>\n",
       "      <td>Cyber Security Architect</td>\n",
       "      <td>110000</td>\n",
       "      <td>EUR</td>\n",
       "      <td>130026</td>\n",
       "      <td>NL</td>\n",
       "      <td>100</td>\n",
       "      <td>NL</td>\n",
       "      <td>L</td>\n",
       "    </tr>\n",
       "    <tr>\n",
       "      <th>1</th>\n",
       "      <td>2021</td>\n",
       "      <td>SE</td>\n",
       "      <td>FT</td>\n",
       "      <td>Software Engineer</td>\n",
       "      <td>50000</td>\n",
       "      <td>EUR</td>\n",
       "      <td>59102</td>\n",
       "      <td>FR</td>\n",
       "      <td>50</td>\n",
       "      <td>FR</td>\n",
       "      <td>L</td>\n",
       "    </tr>\n",
       "    <tr>\n",
       "      <th>2</th>\n",
       "      <td>2021</td>\n",
       "      <td>MI</td>\n",
       "      <td>FT</td>\n",
       "      <td>Front End Engineer</td>\n",
       "      <td>36000</td>\n",
       "      <td>USD</td>\n",
       "      <td>36000</td>\n",
       "      <td>AR</td>\n",
       "      <td>100</td>\n",
       "      <td>IL</td>\n",
       "      <td>S</td>\n",
       "    </tr>\n",
       "    <tr>\n",
       "      <th>3</th>\n",
       "      <td>2022e</td>\n",
       "      <td>SE</td>\n",
       "      <td>CT</td>\n",
       "      <td>Frontend Developer</td>\n",
       "      <td>128000</td>\n",
       "      <td>USD</td>\n",
       "      <td>128000</td>\n",
       "      <td>SK</td>\n",
       "      <td>100</td>\n",
       "      <td>US</td>\n",
       "      <td>S</td>\n",
       "    </tr>\n",
       "    <tr>\n",
       "      <th>4</th>\n",
       "      <td>2021</td>\n",
       "      <td>SE</td>\n",
       "      <td>FT</td>\n",
       "      <td>Web Developer</td>\n",
       "      <td>124800</td>\n",
       "      <td>USD</td>\n",
       "      <td>124800</td>\n",
       "      <td>US</td>\n",
       "      <td>100</td>\n",
       "      <td>US</td>\n",
       "      <td>L</td>\n",
       "    </tr>\n",
       "  </tbody>\n",
       "</table>\n",
       "</div>"
      ],
      "text/plain": [
       "  work_year experience_level employment_type                 job_title  \\\n",
       "0      2021               SE              FT  Cyber Security Architect   \n",
       "1      2021               SE              FT         Software Engineer   \n",
       "2      2021               MI              FT        Front End Engineer   \n",
       "3     2022e               SE              CT        Frontend Developer   \n",
       "4      2021               SE              FT             Web Developer   \n",
       "\n",
       "   salary salary_currency  salary_in_usd employee_residence  remote_ratio  \\\n",
       "0  110000             EUR         130026                 NL           100   \n",
       "1   50000             EUR          59102                 FR            50   \n",
       "2   36000             USD          36000                 AR           100   \n",
       "3  128000             USD         128000                 SK           100   \n",
       "4  124800             USD         124800                 US           100   \n",
       "\n",
       "  company_location company_size  \n",
       "0               NL            L  \n",
       "1               FR            L  \n",
       "2               IL            S  \n",
       "3               US            S  \n",
       "4               US            L  "
      ]
     },
     "execution_count": 3,
     "metadata": {},
     "output_type": "execute_result"
    }
   ],
   "source": [
    "salaries_data.head()"
   ]
  },
  {
   "cell_type": "markdown",
   "metadata": {},
   "source": [
    "#### Preprocessed data\n"
   ]
  },
  {
   "cell_type": "code",
   "execution_count": 4,
   "metadata": {},
   "outputs": [
    {
     "name": "stdout",
     "output_type": "stream",
     "text": [
      "(1415, 15)\n"
     ]
    },
    {
     "name": "stderr",
     "output_type": "stream",
     "text": [
      "c:\\Users\\timwe\\VisualStudio\\Data-Litaracy-Project\\src\\preprocessing.py:74: SettingWithCopyWarning: \n",
      "A value is trying to be set on a copy of a slice from a DataFrame.\n",
      "Try using .loc[row_indexer,col_indexer] = value instead\n",
      "\n",
      "See the caveats in the documentation: https://pandas.pydata.org/pandas-docs/stable/user_guide/indexing.html#returning-a-view-versus-a-copy\n",
      "  gdp_data['gdp_per_capita'] = (gdp_data['gdp_md_est'] / gdp_data['pop_est'] * 1000000)\n"
     ]
    }
   ],
   "source": [
    "salaries = pre.complete_preprocessing()\n",
    "print(salaries.shape)"
   ]
  },
  {
   "cell_type": "code",
   "execution_count": 5,
   "metadata": {},
   "outputs": [
    {
     "data": {
      "text/html": [
       "<div>\n",
       "<style scoped>\n",
       "    .dataframe tbody tr th:only-of-type {\n",
       "        vertical-align: middle;\n",
       "    }\n",
       "\n",
       "    .dataframe tbody tr th {\n",
       "        vertical-align: top;\n",
       "    }\n",
       "\n",
       "    .dataframe thead th {\n",
       "        text-align: right;\n",
       "    }\n",
       "</style>\n",
       "<table border=\"1\" class=\"dataframe\">\n",
       "  <thead>\n",
       "    <tr style=\"text-align: right;\">\n",
       "      <th></th>\n",
       "      <th>work_year</th>\n",
       "      <th>experience_level</th>\n",
       "      <th>employment_type</th>\n",
       "      <th>job_title</th>\n",
       "      <th>salary</th>\n",
       "      <th>salary_currency</th>\n",
       "      <th>salary_in_usd</th>\n",
       "      <th>remote_ratio</th>\n",
       "      <th>company_size</th>\n",
       "      <th>company_location_iso_a3</th>\n",
       "      <th>employee_residence_iso_a3</th>\n",
       "      <th>gdp_company_location</th>\n",
       "      <th>gdp_employee_residence</th>\n",
       "      <th>same_country</th>\n",
       "      <th>ai_or_ml_job</th>\n",
       "    </tr>\n",
       "  </thead>\n",
       "  <tbody>\n",
       "    <tr>\n",
       "      <th>0</th>\n",
       "      <td>2021</td>\n",
       "      <td>3</td>\n",
       "      <td>FT</td>\n",
       "      <td>Cyber Security Architect</td>\n",
       "      <td>110000</td>\n",
       "      <td>EUR</td>\n",
       "      <td>130026</td>\n",
       "      <td>100</td>\n",
       "      <td>3</td>\n",
       "      <td>NLD</td>\n",
       "      <td>NLD</td>\n",
       "      <td>50969.524287</td>\n",
       "      <td>50969.524287</td>\n",
       "      <td>1.0</td>\n",
       "      <td>0.0</td>\n",
       "    </tr>\n",
       "    <tr>\n",
       "      <th>1</th>\n",
       "      <td>2021</td>\n",
       "      <td>1</td>\n",
       "      <td>FT</td>\n",
       "      <td>Cyber Security Analyst</td>\n",
       "      <td>75000</td>\n",
       "      <td>EUR</td>\n",
       "      <td>88654</td>\n",
       "      <td>100</td>\n",
       "      <td>3</td>\n",
       "      <td>NLD</td>\n",
       "      <td>NLD</td>\n",
       "      <td>50969.524287</td>\n",
       "      <td>50969.524287</td>\n",
       "      <td>1.0</td>\n",
       "      <td>0.0</td>\n",
       "    </tr>\n",
       "    <tr>\n",
       "      <th>2</th>\n",
       "      <td>2021</td>\n",
       "      <td>2</td>\n",
       "      <td>FT</td>\n",
       "      <td>Product Designer</td>\n",
       "      <td>40000</td>\n",
       "      <td>EUR</td>\n",
       "      <td>47282</td>\n",
       "      <td>100</td>\n",
       "      <td>2</td>\n",
       "      <td>NLD</td>\n",
       "      <td>NLD</td>\n",
       "      <td>50969.524287</td>\n",
       "      <td>50969.524287</td>\n",
       "      <td>1.0</td>\n",
       "      <td>0.0</td>\n",
       "    </tr>\n",
       "    <tr>\n",
       "      <th>3</th>\n",
       "      <td>2021</td>\n",
       "      <td>2</td>\n",
       "      <td>FT</td>\n",
       "      <td>Chief Information Security Officer</td>\n",
       "      <td>40000</td>\n",
       "      <td>USD</td>\n",
       "      <td>40000</td>\n",
       "      <td>50</td>\n",
       "      <td>3</td>\n",
       "      <td>NLD</td>\n",
       "      <td>NLD</td>\n",
       "      <td>50969.524287</td>\n",
       "      <td>50969.524287</td>\n",
       "      <td>1.0</td>\n",
       "      <td>0.0</td>\n",
       "    </tr>\n",
       "    <tr>\n",
       "      <th>4</th>\n",
       "      <td>2020</td>\n",
       "      <td>4</td>\n",
       "      <td>PT</td>\n",
       "      <td>Director of Infrastructure</td>\n",
       "      <td>86000</td>\n",
       "      <td>EUR</td>\n",
       "      <td>98080</td>\n",
       "      <td>50</td>\n",
       "      <td>2</td>\n",
       "      <td>NLD</td>\n",
       "      <td>NLD</td>\n",
       "      <td>50969.524287</td>\n",
       "      <td>50969.524287</td>\n",
       "      <td>1.0</td>\n",
       "      <td>0.0</td>\n",
       "    </tr>\n",
       "  </tbody>\n",
       "</table>\n",
       "</div>"
      ],
      "text/plain": [
       "   work_year  experience_level employment_type  \\\n",
       "0       2021                 3              FT   \n",
       "1       2021                 1              FT   \n",
       "2       2021                 2              FT   \n",
       "3       2021                 2              FT   \n",
       "4       2020                 4              PT   \n",
       "\n",
       "                            job_title  salary salary_currency  salary_in_usd  \\\n",
       "0            Cyber Security Architect  110000             EUR         130026   \n",
       "1              Cyber Security Analyst   75000             EUR          88654   \n",
       "2                    Product Designer   40000             EUR          47282   \n",
       "3  Chief Information Security Officer   40000             USD          40000   \n",
       "4          Director of Infrastructure   86000             EUR          98080   \n",
       "\n",
       "   remote_ratio  company_size company_location_iso_a3  \\\n",
       "0           100             3                     NLD   \n",
       "1           100             3                     NLD   \n",
       "2           100             2                     NLD   \n",
       "3            50             3                     NLD   \n",
       "4            50             2                     NLD   \n",
       "\n",
       "  employee_residence_iso_a3  gdp_company_location  gdp_employee_residence  \\\n",
       "0                       NLD          50969.524287            50969.524287   \n",
       "1                       NLD          50969.524287            50969.524287   \n",
       "2                       NLD          50969.524287            50969.524287   \n",
       "3                       NLD          50969.524287            50969.524287   \n",
       "4                       NLD          50969.524287            50969.524287   \n",
       "\n",
       "   same_country  ai_or_ml_job  \n",
       "0           1.0           0.0  \n",
       "1           1.0           0.0  \n",
       "2           1.0           0.0  \n",
       "3           1.0           0.0  \n",
       "4           1.0           0.0  "
      ]
     },
     "execution_count": 5,
     "metadata": {},
     "output_type": "execute_result"
    }
   ],
   "source": [
    "salaries.head()"
   ]
  },
  {
   "cell_type": "markdown",
   "metadata": {},
   "source": [
    "#### Regression"
   ]
  },
  {
   "cell_type": "code",
   "execution_count": 6,
   "metadata": {},
   "outputs": [
    {
     "name": "stdout",
     "output_type": "stream",
     "text": [
      "[ 0.05540313  0.46266091  0.04165224  0.05452619 -0.10655986  0.06001988\n",
      "  0.55676665]\n",
      "0.5156696718759024\n"
     ]
    }
   ],
   "source": [
    "#Calculate regression coefficients\n",
    "salaries = salaries[[\"ai_or_ml_job\",\"salary_in_usd\", \"experience_level\",\"work_year\",\"company_size\", \"same_country\",\"remote_ratio\",\"gdp_employee_residence\"]]\n",
    "salaries_norm = ((salaries - salaries.mean()) /salaries.std())\n",
    "X = salaries_norm[[\"ai_or_ml_job\", \"experience_level\",\"work_year\",\"company_size\", \"same_country\",\"remote_ratio\",\"gdp_employee_residence\"]]\n",
    "y = salaries_norm[\"salary_in_usd\"]\n",
    "X = X.to_numpy()\n",
    "y = y.to_numpy()\n",
    "\n",
    "reg = LinearRegression(fit_intercept=True).fit(X.reshape(-1,7), y)\n",
    "print(reg.coef_)\n",
    "r2_score = reg.score(X.reshape(-1,7), y)\n",
    "print(r2_score)\n"
   ]
  }
 ],
 "metadata": {
  "interpreter": {
   "hash": "98022a0fe13211609c552904ec415ff3daa283cbfb3274b098dbbcf57569697c"
  },
  "kernelspec": {
   "display_name": "Python 3.8.8 64-bit ('base': conda)",
   "language": "python",
   "name": "python3"
  },
  "language_info": {
   "codemirror_mode": {
    "name": "ipython",
    "version": 3
   },
   "file_extension": ".py",
   "mimetype": "text/x-python",
   "name": "python",
   "nbconvert_exporter": "python",
   "pygments_lexer": "ipython3",
   "version": "3.9.7"
  },
  "orig_nbformat": 4
 },
 "nbformat": 4,
 "nbformat_minor": 2
}
