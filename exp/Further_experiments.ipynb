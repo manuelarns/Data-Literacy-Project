{
 "cells": [
  {
   "cell_type": "code",
   "execution_count": null,
   "metadata": {},
   "outputs": [],
   "source": [
    "import matplotlib.pyplot as plt"
   ]
  },
  {
   "cell_type": "code",
   "execution_count": null,
   "metadata": {},
   "outputs": [],
   "source": [
    "#Try to find best job_title predictor\n",
    "#TODO Change preprocessing for ai_or_ml_job or maybe Software in preprocessing file in order\n",
    "# to achieve distinguishable means which could be used as a predictor\n",
    "salary_per_job = salaries[[\"ai_or_ml_job\", \"salary_in_usd\"]].groupby(\"ai_or_ml_job\").mean()\n",
    "salary_per_job[\"salary_in_usd\"].sort_values(ascending=False).head()\n",
    "\n",
    "\n",
    "#Experiment: Is relationship between salary and gdp maybe quadratic?\n",
    "#salaries[\"gdp_employee_residence\"] = salaries[\"gdp_employee_residence\"] ** 2\n",
    "#Result: r2 square almost the same but lower by 2* 10^-4 ==> Leave everything as it is\n",
    "#Experiment: Is relationship between salary and experience level maybe quadratic?\n",
    "#salaries[\"experience_level\"] = salaries[\"experience_level\"] ** 2\n",
    "#Result: r2 square almost the same but better by 0.007==> Leave everything as it is\n",
    "\n",
    "#3D Plot\n",
    "fig = plt.figure()\n",
    "ax = fig.add_subplot(projection='3d')\n",
    "print(X[:,0])\n",
    "ax.scatter(salaries[\"experience_level\"], salaries[\"gdp_employee_residence\"], salaries[\"salary_in_usd\"])\n",
    "\n",
    "#0.02 improvement by replacing gdp_company_location by gdp employee_residence\n",
    "\n",
    "# Plots aller attribute vs salary --> Beziehung\n",
    "\n",
    "# Regression for only biggest group: e.g. DevOps / USA / ..."
   ]
  }
 ],
 "metadata": {
  "language_info": {
   "name": "python"
  },
  "orig_nbformat": 4
 },
 "nbformat": 4,
 "nbformat_minor": 2
}
