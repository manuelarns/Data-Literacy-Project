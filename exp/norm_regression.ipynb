{
 "cells": [
  {
   "cell_type": "markdown",
   "metadata": {},
   "source": [
    "# Multiple Linear Regression\n",
    "\n",
    "In this experiment, we apply *multiple linear regression* to the following set of ***normalized*** predictors\n",
    "\n",
    "- AI or ML Job\n",
    "- Experience Level\n",
    "- Work Year\n",
    "- Company Size\n",
    "- Same Country\n",
    "- Remote Ratio\n",
    "- GDP at Employee Residence\n",
    "\n",
    "This experiment shows that GDP and experience level generate by far the highest coefficients and that the prediction works well with a reasonably good R2 score."
   ]
  },
  {
   "cell_type": "code",
   "execution_count": 5,
   "metadata": {},
   "outputs": [
    {
     "name": "stderr",
     "output_type": "stream",
     "text": [
      "/var/folders/ct/c6nl4fhx7hx43w75240zn_140000gn/T/ipykernel_48404/1298243271.py:3: DeprecationWarning: `set_matplotlib_formats` is deprecated since IPython 7.23, directly use `matplotlib_inline.backend_inline.set_matplotlib_formats()`\n",
      "  set_matplotlib_formats(\"pdf\", \"svg\")\n"
     ]
    }
   ],
   "source": [
    "import matplotlib.pyplot as plt\n",
    "import matplotlib_inline.backend_inline\n",
    "matplotlib_inline.backend_inline.set_matplotlib_formats(\"pdf\", \"svg\")\n",
    "import numpy as np\n",
    "from src.preprocessing import complete_preprocessing, load_data\n",
    "from sklearn.linear_model import LinearRegression"
   ]
  },
  {
   "cell_type": "code",
   "execution_count": 6,
   "metadata": {},
   "outputs": [
    {
     "name": "stderr",
     "output_type": "stream",
     "text": [
      "/Users/manuelarns/Developer/Data-Litaracy-Project/exp/src/preprocessing.py:71: SettingWithCopyWarning: \n",
      "A value is trying to be set on a copy of a slice from a DataFrame.\n",
      "Try using .loc[row_indexer,col_indexer] = value instead\n",
      "\n",
      "See the caveats in the documentation: https://pandas.pydata.org/pandas-docs/stable/user_guide/indexing.html#returning-a-view-versus-a-copy\n",
      "  gdp_data['gdp_per_capita'] = (gdp_data['gdp_md_est'] / gdp_data['pop_est'] * 1000000)\n"
     ]
    }
   ],
   "source": [
    "# load data\n",
    "\n",
    "salaries = complete_preprocessing()\n",
    "salaries = salaries[[\"ai_or_ml_job\",\"salary_in_usd\", \"experience_level\",\"work_year\",\"company_size\", \"same_country\",\"remote_ratio\",\"gdp_employee_residence\"]]"
   ]
  },
  {
   "cell_type": "code",
   "execution_count": 8,
   "metadata": {},
   "outputs": [
    {
     "name": "stdout",
     "output_type": "stream",
     "text": [
      "Coefficients: [ 0.052594    0.47384762  0.04081579  0.04483822 -0.09111529  0.05989227\n",
      "  0.55202593]\n",
      "R2 Score: 0.5233901918678077\n",
      "Intercept: -8.675898081979057e-15\n"
     ]
    }
   ],
   "source": [
    "# normalize\n",
    "salaries_norm = ((salaries - salaries.mean()) /salaries.std())\n",
    "X = salaries_norm[[\"ai_or_ml_job\", \"experience_level\",\"work_year\",\"company_size\", \"same_country\",\"remote_ratio\",\"gdp_employee_residence\"]]\n",
    "y = salaries_norm[\"salary_in_usd\"]\n",
    "X = X.to_numpy()\n",
    "y = y.to_numpy()\n",
    "\n",
    "# calculate regression coefficients\n",
    "reg = LinearRegression(fit_intercept=True).fit(X.reshape(-1,7), y)\n",
    "r2_score = reg.score(X.reshape(-1,7), y)\n",
    "print('Coefficients:', reg.coef_)\n",
    "print('R2 Score:', r2_score)\n",
    "print('Intercept:', reg.intercept_)\n"
   ]
  }
 ],
 "metadata": {
  "interpreter": {
   "hash": "98022a0fe13211609c552904ec415ff3daa283cbfb3274b098dbbcf57569697c"
  },
  "kernelspec": {
   "display_name": "Python 3.8.8 64-bit ('base': conda)",
   "language": "python",
   "name": "python3"
  },
  "language_info": {
   "codemirror_mode": {
    "name": "ipython",
    "version": 3
   },
   "file_extension": ".py",
   "mimetype": "text/x-python",
   "name": "python",
   "nbconvert_exporter": "python",
   "pygments_lexer": "ipython3",
   "version": "3.9.7"
  },
  "orig_nbformat": 4
 },
 "nbformat": 4,
 "nbformat_minor": 2
}
