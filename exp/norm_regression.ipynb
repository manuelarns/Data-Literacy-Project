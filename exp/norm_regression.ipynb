{
 "cells": [
  {
   "cell_type": "markdown",
   "metadata": {},
   "source": [
    "# Multiple Linear Regression\n",
    "\n",
    "In this experiment, we apply *multiple linear regression* to the following set of ***normalized*** predictors\n",
    "\n",
    "- AI or ML Job\n",
    "- Experience Level\n",
    "- Work Year\n",
    "- Company Size\n",
    "- Same Country\n",
    "- Remote Ratio\n",
    "- GDP at Employee Residence\n",
    "\n",
    "This experiment shows that GDP and experience level generate by far the highest coefficients and that the prediction works well with a reasonably good R2 score."
   ]
  },
  {
   "cell_type": "code",
   "execution_count": 1,
   "metadata": {},
   "outputs": [],
   "source": [
    "from src.preprocessing import complete_preprocessing\n",
    "from sklearn.linear_model import LinearRegression"
   ]
  },
  {
   "cell_type": "code",
   "execution_count": 2,
   "metadata": {},
   "outputs": [],
   "source": [
    "# load data\n",
    "\n",
    "salaries = complete_preprocessing()\n",
    "salaries = salaries[[\"ai_or_ml_job\",\"salary_in_usd\", \"experience_level\",\"work_year\",\"company_size\", \"same_country\",\"remote_ratio\",\"gdp_employee_residence\"]]"
   ]
  },
  {
   "cell_type": "code",
   "execution_count": 3,
   "metadata": {},
   "outputs": [
    {
     "name": "stdout",
     "output_type": "stream",
     "text": [
      "Coefficients: [ 0.052594    0.47384762  0.04081579  0.04483822 -0.09111529  0.05989227\n",
      "  0.55202593]\n",
      "R2 Score: 0.5233901918678077\n",
      "Intercept: -8.675898081979057e-15\n"
     ]
    }
   ],
   "source": [
    "# normalize\n",
    "salaries_norm = ((salaries - salaries.mean()) /salaries.std())\n",
    "X = salaries_norm[[\"ai_or_ml_job\", \"experience_level\",\"work_year\",\"company_size\", \"same_country\",\"remote_ratio\",\"gdp_employee_residence\"]]\n",
    "y = salaries_norm[\"salary_in_usd\"]\n",
    "X = X.to_numpy()\n",
    "y = y.to_numpy()\n",
    "\n",
    "# calculate regression coefficients\n",
    "reg = LinearRegression(fit_intercept=True).fit(X.reshape(-1,7), y)\n",
    "r2_score = reg.score(X.reshape(-1,7), y)\n",
    "print('Coefficients:', reg.coef_)\n",
    "print('R2 Score:', r2_score)\n",
    "print('Intercept:', reg.intercept_)\n"
   ]
  }
 ],
 "metadata": {
  "interpreter": {
   "hash": "98022a0fe13211609c552904ec415ff3daa283cbfb3274b098dbbcf57569697c"
  },
  "kernelspec": {
   "display_name": "Python 3.8.8 64-bit ('base': conda)",
   "language": "python",
   "name": "python3"
  },
  "language_info": {
   "codemirror_mode": {
    "name": "ipython",
    "version": 3
   },
   "file_extension": ".py",
   "mimetype": "text/x-python",
   "name": "python",
   "nbconvert_exporter": "python",
   "pygments_lexer": "ipython3",
   "version": "3.9.7"
  },
  "orig_nbformat": 4
 },
 "nbformat": 4,
 "nbformat_minor": 2
}
