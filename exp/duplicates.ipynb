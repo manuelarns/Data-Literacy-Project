{
 "cells": [
  {
   "cell_type": "markdown",
   "metadata": {},
   "source": [
    "After preprocessing thre are suddenly around 850 duplicate rows in the dataset\n",
    "Problem resolved: This is due to the fact that in the preprocessing the year is changed from 2021e to 2021 etc."
   ]
  },
  {
   "cell_type": "code",
   "execution_count": 4,
   "metadata": {},
   "outputs": [],
   "source": [
    "from src.preprocessing import complete_preprocessing\n",
    "import pandas as pd"
   ]
  },
  {
   "cell_type": "code",
   "execution_count": 5,
   "metadata": {},
   "outputs": [],
   "source": [
    "salaries = pd.read_csv(\"../data/salaries.csv\", index_col=[0])\n",
    "salaries_dup = salaries.loc[salaries.duplicated()]\n",
    "salaries_dup.to_csv(\"duplicate_troubleshooting.csv\")"
   ]
  },
  {
   "cell_type": "code",
   "execution_count": 10,
   "metadata": {},
   "outputs": [
    {
     "name": "stderr",
     "output_type": "stream",
     "text": [
      "c:\\Users\\timwe\\VisualStudio\\Data-Litaracy-Project\\exp\\src\\preprocessing.py:71: SettingWithCopyWarning: \n",
      "A value is trying to be set on a copy of a slice from a DataFrame.\n",
      "Try using .loc[row_indexer,col_indexer] = value instead\n",
      "\n",
      "See the caveats in the documentation: https://pandas.pydata.org/pandas-docs/stable/user_guide/indexing.html#returning-a-view-versus-a-copy\n",
      "  gdp_data['gdp_per_capita'] = (gdp_data['gdp_md_est'] / gdp_data['pop_est'] * 1000000)\n"
     ]
    },
    {
     "name": "stdout",
     "output_type": "stream",
     "text": [
      "work_year                    0.79048\n",
      "experience_level             0.79048\n",
      "employment_type              0.79048\n",
      "job_title                    0.79048\n",
      "salary                       0.79048\n",
      "salary_currency              0.79048\n",
      "salary_in_usd                0.79048\n",
      "remote_ratio                 0.79048\n",
      "company_size                 0.79048\n",
      "company_location_iso_a3      0.79048\n",
      "employee_residence_iso_a3    0.79048\n",
      "gdp_company_location         0.79048\n",
      "gdp_employee_residence       0.79048\n",
      "same_country                 0.79048\n",
      "ai_or_ml_job                 0.79048\n",
      "dtype: float64\n",
      "work_year                    1152\n",
      "experience_level             1152\n",
      "employment_type              1152\n",
      "job_title                    1152\n",
      "salary                       1152\n",
      "salary_currency              1152\n",
      "salary_in_usd                1152\n",
      "remote_ratio                 1152\n",
      "company_size                 1152\n",
      "company_location_iso_a3      1152\n",
      "employee_residence_iso_a3    1152\n",
      "gdp_company_location         1152\n",
      "gdp_employee_residence       1152\n",
      "same_country                 1152\n",
      "ai_or_ml_job                 1152\n",
      "dtype: int64\n"
     ]
    }
   ],
   "source": [
    "salaries_pre = complete_preprocessing()\n",
    "no_gdp_main_group = salaries_pre.loc[(salaries_pre[\"gdp_employee_residence\"] < 60000) & (salaries_pre[\"gdp_employee_residence\"] > 40000)].count()\n",
    "print(no_gdp_main_group / salaries_pre.count())\n",
    "\n",
    "print(salaries_pre.loc[salaries_pre[\"employee_residence_iso_a3\"] == \"USA\"].count())\n",
    "\n",
    "\n",
    "\n",
    "salaries_pre_dup = salaries_pre.loc[salaries_pre.duplicated()]\n",
    "salaries_pre_dup.to_csv(\"duplicate_Pre_troubleshooting.csv\")"
   ]
  }
 ],
 "metadata": {
  "interpreter": {
   "hash": "eafa29cded688e2ad01a641af16ee15b5bc5261ac28f50c6fd144fc2116ba3b5"
  },
  "kernelspec": {
   "display_name": "Python 3.9.7 64-bit ('geo-env': conda)",
   "language": "python",
   "name": "python3"
  },
  "language_info": {
   "codemirror_mode": {
    "name": "ipython",
    "version": 3
   },
   "file_extension": ".py",
   "mimetype": "text/x-python",
   "name": "python",
   "nbconvert_exporter": "python",
   "pygments_lexer": "ipython3",
   "version": "3.9.7"
  },
  "orig_nbformat": 4
 },
 "nbformat": 4,
 "nbformat_minor": 2
}
