{
 "cells": [
  {
   "cell_type": "markdown",
   "metadata": {},
   "source": [
    "**Analysis of the salaries data set**"
   ]
  },
  {
   "cell_type": "markdown",
   "metadata": {},
   "source": [
    "Import of Libraries:"
   ]
  },
  {
   "cell_type": "code",
   "execution_count": 1,
   "metadata": {},
   "outputs": [
    {
     "name": "stderr",
     "output_type": "stream",
     "text": [
      "C:\\Users\\timwe\\AppData\\Local\\Temp/ipykernel_24272/1298243271.py:3: DeprecationWarning: `set_matplotlib_formats` is deprecated since IPython 7.23, directly use `matplotlib_inline.backend_inline.set_matplotlib_formats()`\n",
      "  set_matplotlib_formats(\"pdf\", \"svg\")\n"
     ]
    }
   ],
   "source": [
    "import matplotlib.pyplot as plt\n",
    "from IPython.display import set_matplotlib_formats\n",
    "set_matplotlib_formats(\"pdf\", \"svg\")\n",
    "import numpy as np\n",
    "from src.preprocessing import complete_preprocessing, load_data\n",
    "from sklearn.linear_model import LinearRegression"
   ]
  },
  {
   "cell_type": "markdown",
   "metadata": {},
   "source": [
    "#### Raw data"
   ]
  },
  {
   "cell_type": "code",
   "execution_count": 2,
   "metadata": {},
   "outputs": [
    {
     "name": "stdout",
     "output_type": "stream",
     "text": [
      "(2451, 12)\n"
     ]
    }
   ],
   "source": [
    "_, salaries_data, _ = load_data()\n",
    "print(salaries_data.shape)"
   ]
  },
  {
   "cell_type": "markdown",
   "metadata": {},
   "source": [
    "#### Preprocessed data\n"
   ]
  },
  {
   "cell_type": "code",
   "execution_count": 3,
   "metadata": {},
   "outputs": [
    {
     "name": "stdout",
     "output_type": "stream",
     "text": [
      "(2245, 16)\n"
     ]
    },
    {
     "name": "stderr",
     "output_type": "stream",
     "text": [
      "c:\\Users\\timwe\\VisualStudio\\Data-Litaracy-Project\\exp\\src\\preprocessing.py:74: SettingWithCopyWarning: \n",
      "A value is trying to be set on a copy of a slice from a DataFrame.\n",
      "Try using .loc[row_indexer,col_indexer] = value instead\n",
      "\n",
      "See the caveats in the documentation: https://pandas.pydata.org/pandas-docs/stable/user_guide/indexing.html#returning-a-view-versus-a-copy\n",
      "  gdp_data['gdp_per_capita'] = (gdp_data['gdp_md_est'] / gdp_data['pop_est'] * 1000000)\n"
     ]
    }
   ],
   "source": [
    "salaries = complete_preprocessing()\n",
    "print(salaries.shape)"
   ]
  },
  {
   "cell_type": "markdown",
   "metadata": {},
   "source": [
    "#### Regression"
   ]
  },
  {
   "cell_type": "code",
   "execution_count": 4,
   "metadata": {},
   "outputs": [
    {
     "name": "stdout",
     "output_type": "stream",
     "text": [
      "[ 0.05325158  0.47292354  0.04016034  0.0449297  -0.08871839  0.05940052\n",
      "  0.55338875]\n",
      "0.5228490512741717\n",
      "-1.610904201639035e-15\n"
     ]
    },
    {
     "data": {
      "text/plain": [
       "<function print>"
      ]
     },
     "execution_count": 4,
     "metadata": {},
     "output_type": "execute_result"
    }
   ],
   "source": [
    "#Calculate regression coefficients\n",
    "salaries = salaries[[\"ai_or_ml_job\",\"salary_in_usd\", \"experience_level\",\"work_year\",\"company_size\", \"same_country\",\"remote_ratio\",\"gdp_employee_residence\"]]\n",
    "salaries_norm = ((salaries - salaries.mean()) /salaries.std())\n",
    "X = salaries_norm[[\"ai_or_ml_job\", \"experience_level\",\"work_year\",\"company_size\", \"same_country\",\"remote_ratio\",\"gdp_employee_residence\"]]\n",
    "y = salaries_norm[\"salary_in_usd\"]\n",
    "X = X.to_numpy()\n",
    "y = y.to_numpy()\n",
    "\n",
    "reg = LinearRegression(fit_intercept=True).fit(X.reshape(-1,7), y)\n",
    "print(reg.coef_)\n",
    "r2_score = reg.score(X.reshape(-1,7), y)\n",
    "print(r2_score)\n",
    "print(reg.intercept_)\n"
   ]
  }
 ],
 "metadata": {
  "interpreter": {
   "hash": "98022a0fe13211609c552904ec415ff3daa283cbfb3274b098dbbcf57569697c"
  },
  "kernelspec": {
   "display_name": "Python 3.8.8 64-bit ('base': conda)",
   "language": "python",
   "name": "python3"
  },
  "language_info": {
   "codemirror_mode": {
    "name": "ipython",
    "version": 3
   },
   "file_extension": ".py",
   "mimetype": "text/x-python",
   "name": "python",
   "nbconvert_exporter": "python",
   "pygments_lexer": "ipython3",
   "version": "3.9.7"
  },
  "orig_nbformat": 4
 },
 "nbformat": 4,
 "nbformat_minor": 2
}
